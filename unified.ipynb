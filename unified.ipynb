{
 "cells": [
  {
   "cell_type": "markdown",
   "metadata": {},
   "source": [
    "# Predict Sales"
   ]
  },
  {
   "cell_type": "markdown",
   "metadata": {},
   "source": [
    "This project is a completed project where I will be doing to use of all techniques, Machine Learning, data mining and statistical applications. \n",
    "\n",
    "On the other hand, I will choose the system (relational or no - relational) most appropiate in order to achieve the efficiency.\n",
    "\n",
    "The project is divided in 4 big steps:\n",
    "1. Get Data.\n",
    "2. Data Cleanning and Data Analysis.\n",
    "3. Data trasformation for modelling\n",
    "4. Modelling and Predicting"
   ]
  },
  {
   "cell_type": "markdown",
   "metadata": {},
   "source": [
    "## 1. Get Data\n",
    "\n",
    "* The source of the data will be, obviously, Internet, that is, I will scrape a web page, especifically, a e-commerce web page.\n",
    "\n",
    "* Due that fact that not all features need are on internet, some features will be simulated, but keeping the economics logical. One  of them is the inverse relationship between prices and quantity demanded. \n",
    "\n",
    "* The database will make up by \n",
    "  * `user_data` or `costumer_data`\n",
    "  * `product_data`  \n",
    "  * `sales_data`"
   ]
  },
  {
   "cell_type": "markdown",
   "metadata": {},
   "source": [
    "### Product Data\n",
    "\n",
    "Here I will be using all tools for web scraping - crawling, and their packages, `Selenium`"
   ]
  },
  {
   "cell_type": "code",
   "execution_count": 1,
   "metadata": {},
   "outputs": [],
   "source": [
    "import scraping"
   ]
  },
  {
   "cell_type": "code",
   "execution_count": 2,
   "metadata": {},
   "outputs": [],
   "source": [
    "main_link = 'https://www.linio.com.pe'\n",
    "page_html = scraping.DownloadHtml(main_link)"
   ]
  },
  {
   "cell_type": "code",
   "execution_count": 3,
   "metadata": {},
   "outputs": [],
   "source": [
    "import re\n",
    "from lxml.html import fromstring\n",
    "\n",
    "tree = fromstring(page_html)\n",
    "elements = tree.xpath('//li[@class=\"nav-item\"]//a')"
   ]
  },
  {
   "cell_type": "code",
   "execution_count": 4,
   "metadata": {},
   "outputs": [
    {
     "name": "stdout",
     "output_type": "stream",
     "text": [
      ">  Ofertas-solo-hoy                       63 productos\n",
      ">  Productos-internacionales-en-peru      20,752 productos\n",
      ">  Celulares-y-tablets                    385,175 productos\n",
      ">  Tv-audio-y-video                       101,477 productos\n",
      ">  Consolas-y-videojuegos                 48,672 productos\n",
      ">  Computacion                            167,584 productos\n",
      ">  Hogar                                  555,623 productos\n",
      ">  Ferreteria                             257,050 productos\n",
      ">  Electrodomesticos                      72,346 productos\n",
      ">  Moda                                   652,819 productos\n",
      ">  Moda/hombre                            157,501 productos\n",
      ">  Belleza-y-cuidado-personal             167,821 productos\n",
      ">  Salud-y-bienestar                      75,701 productos\n",
      ">  Juguetes-ninos-y-bebes                 340,444 productos\n",
      ">  Deportes                               217,605 productos\n",
      ">  Despensa-vinos-y-gourmet               6,953 productos\n",
      ">  Libros-y-peliculas/libros              16,167 productos\n"
     ]
    }
   ],
   "source": [
    "total_products = 0\n",
    "for element in elements:\n",
    "    grouped_link = '{}{}'.format(main_link, element.get('href'))\n",
    "    html_page = scraping.DownloadHtml(grouped_link)\n",
    "    tree = fromstring(html_page)\n",
    "    elements_current = tree.xpath('//span[@class=\"results-quantity\"]//text()')\n",
    "    if elements_current: \n",
    "        group = re.search(r\"/(?:c|cm)/(.+)\",element.get('href'))\n",
    "        group_1 = group.group(1)\n",
    "        group_cap_1 = group_1.capitalize()\n",
    "        print(\"> \",group_cap_1.ljust(38), elements_current[0])\n",
    "        products_elements = re.sub(r'(\\d{0,3})\\,?(\\d{1,3})\\sproductos',r'\\1\\2' ,elements_current[0])\n",
    "        if products_elements:\n",
    "            total_products += float(products_elements)"
   ]
  },
  {
   "cell_type": "markdown",
   "metadata": {},
   "source": [
    "* There are approximately 3,158 074 products or less since one category can be a subcategory of the others, but this is a good aprox. although they are enought.\n",
    "\n",
    "* I will take a sample of 500 products and the distribution will be random.\n",
    "\n",
    "* Other considerations came from the code, specifically, the crawler code. I usually put a time boundaries and this case I will pass 3 minutes per category this will be the my populations of links by category."
   ]
  },
  {
   "cell_type": "code",
   "execution_count": 5,
   "metadata": {},
   "outputs": [],
   "source": [
    "from pathlib import Path\n",
    "import json"
   ]
  },
  {
   "cell_type": "code",
   "execution_count": 6,
   "metadata": {},
   "outputs": [],
   "source": [
    "class JsonNewDecoder(json.JSONDecoder):\n",
    "\n",
    "    def default(self, obj):\n",
    "        if isinstance(obj, set):\n",
    "            return list(obj)\n",
    "        return json.JSONDecoder.default(self, obj)\n",
    "\n",
    "class JsonNewEncoder(json.JSONEncoder):\n",
    "\n",
    "    def default(self, obj):\n",
    "        if isinstance(obj, set):\n",
    "            return list(obj)\n",
    "        return json.JSONEncoder.default(self, obj)\n",
    "\n",
    "if Path('url_to_scrape.json').exists():\n",
    "\n",
    "    with open('url_to_scrape.json', 'rb') as reader:    \n",
    "        links_total = json.load(reader, cls=JsonNewDecoder)\n",
    "else:\n",
    "\n",
    "    links_total = {}\n",
    "\n",
    "    for element in elements:\n",
    "        grouped_link = '{}{}'.format(main_link, element.get('href'))\n",
    "        \n",
    "        links = scraping.link_crawler(main_link, grouped_link, minutes=3)\n",
    "\n",
    "        if re.search(r\".*/(?:c|cm|sp)/(.+)\", grouped_link):\n",
    "            group = re.search(r\".*/(?:c|cm|sp)/(.+)\", grouped_link)\n",
    "            group_1 = group.group(1)\n",
    "            group_cap_1 = group_1.capitalize()\n",
    "            \n",
    "            links_total[group_cap_1] = list(links)\n",
    "    \n",
    "    with open('url_to_scrape.json', 'w') as writer:\n",
    "        json.dump(links_total, writer, cls=JsonNewEncoder)\n",
    "    "
   ]
  },
  {
   "cell_type": "code",
   "execution_count": 7,
   "metadata": {},
   "outputs": [],
   "source": [
    "import numpy as np"
   ]
  },
  {
   "cell_type": "code",
   "execution_count": 8,
   "metadata": {},
   "outputs": [],
   "source": [
    "np.random.seed(123)\n",
    "random_numbers = np.random.randint(10, 50, size = len(links_total.keys()), )\n",
    "random_propor = random_numbers/random_numbers.sum()\n",
    "random_sample = np.multiply(random_propor,600).astype(int)"
   ]
  },
  {
   "cell_type": "code",
   "execution_count": 9,
   "metadata": {},
   "outputs": [],
   "source": [
    "links_total_sample = []\n",
    "for size, group_name in zip(random_sample, links_total.keys()):\n",
    "    sample_data = list(np.random.choice(links_total[group_name], size = size))\n",
    "    #for sample in sample_data:\n",
    "    links_total_sample.extend(sample_data) #.append({group_name:sample}) #[group_name] = sample_data\n"
   ]
  },
  {
   "cell_type": "code",
   "execution_count": 11,
   "metadata": {},
   "outputs": [
    {
     "name": "stdout",
     "output_type": "stream",
     "text": [
      "Finished in 583.107144 seconds\n"
     ]
    }
   ],
   "source": [
    "import concurrent.futures\n",
    "import time\n",
    "\n",
    "t1 = time.perf_counter()\n",
    "with concurrent.futures.ThreadPoolExecutor() as executor:\n",
    "    executor.map(scraping.download_data_pages, links_total_sample)\n",
    "t2 = time.perf_counter()\n",
    "\n",
    "print(f'Finished in {t2 - t1} seconds')"
   ]
  },
  {
   "cell_type": "code",
   "execution_count": 12,
   "metadata": {},
   "outputs": [],
   "source": [
    "def reader_json(root_file):\n",
    "    with open(root_file, 'rb') as reader:\n",
    "        return json.load(reader)\n",
    "\n",
    "products_selenium = [ reader_json(file_json)  for file_json in Path('./DataPages').glob('*.json')]\n",
    "products_selenium_select = list(np.random.choice(products_selenium, size = 500, replace=False))"
   ]
  },
  {
   "cell_type": "code",
   "execution_count": 13,
   "metadata": {},
   "outputs": [],
   "source": [
    "from scipy.stats import beta\n",
    "import numpy as np\n",
    "import pandas as pd \n",
    "\n",
    "data_product = pd.DataFrame(\n",
    "    dict(\n",
    "        TimesBought = np.multiply(beta.rvs(a=1.1, b = 25.4, size=500, random_state = 123),50)),\n",
    "    index = np.arange(10001, 10001+ 500)\n",
    "    )\n",
    "data_product.index.name = 'ProductId'\n",
    "data_product.reset_index(inplace=True)\n",
    "\n",
    "data_product_to_mongo = data_product[['ProductId']].astype(str).copy()\n",
    "data_product_to_dict = data_product_to_mongo.apply(lambda x:dict(x),axis=1).values"
   ]
  },
  {
   "cell_type": "code",
   "execution_count": 14,
   "metadata": {},
   "outputs": [],
   "source": [
    "complete_product_data = []\n",
    "for produ_sel, dat_product in zip(products_selenium_select, data_product_to_dict):\n",
    "    produ_sel.update(dat_product)\n",
    "    complete_product_data.append(produ_sel)"
   ]
  },
  {
   "cell_type": "code",
   "execution_count": 18,
   "metadata": {},
   "outputs": [
    {
     "data": {
      "text/plain": [
       "<pymongo.results.InsertManyResult at 0x1120de42d30>"
      ]
     },
     "execution_count": 18,
     "metadata": {},
     "output_type": "execute_result"
    }
   ],
   "source": [
    "from pymongo import MongoClient\n",
    "from pathlib import Path\n",
    "import json\n",
    "\n",
    "mongo_uri = \"mongodb://localhost\"\n",
    "client = MongoClient(mongo_uri)\n",
    "\n",
    "db = client['to_model_sales']\n",
    "collection = db['product_data']\n",
    "collection.insert_many(complete_product_data)"
   ]
  },
  {
   "cell_type": "markdown",
   "metadata": {},
   "source": [
    "### User Data"
   ]
  },
  {
   "cell_type": "code",
   "execution_count": 16,
   "metadata": {},
   "outputs": [],
   "source": [
    "from scipy.stats import binom\n",
    "import requests\n",
    "\n",
    "data_users = pd.DataFrame({ \n",
    "    \"TimesBought\":binom.rvs(n = 20, p = 0.5, size = 1000),\n",
    "    \"CustomerId\": np.arange(1001, 2001)} )\n",
    "\n",
    "data_users.TimesBought = data_users.TimesBought/data_users.TimesBought.sum().copy()\n",
    "\n",
    "response = requests.get('https://es.wikipedia.org/wiki/Categor%C3%ADa:Avenidas_de_Lima')\n",
    "tree = fromstring(response.content)\n",
    "avenidas = tree.xpath('//a[contains(text(),\"Avenida \")]//text()')\n",
    "\n",
    "data_users['Address'] = data_users.CustomerId.apply(lambda x: np.random.choice(avenidas) + ' ' +str(np.random.randint(100, 1400))).copy()\n",
    "data_users['Age'] = np.round(beta.rvs(a= 10.5, b = 1.5,size = 1000 , random_state = 123)*50)\n",
    "data_users['CellPhone'] = np.random.randint(900_000_000,1000_000_000, 1_000)\n",
    "\n",
    "data_users[['CustomerId', 'Age', 'CellPhone']] = data_users[['CustomerId', 'Age', 'CellPhone']].astype(int).copy()\n",
    "\n",
    "data_users_to_dict = data_users[['CustomerId' ,'Address', 'Age', 'CellPhone']].T.apply(lambda x:dict(x))\n",
    "complete_user_data = list(data_users_to_dict.values)"
   ]
  },
  {
   "cell_type": "code",
   "execution_count": 17,
   "metadata": {},
   "outputs": [
    {
     "data": {
      "text/plain": [
       "<pymongo.results.InsertManyResult at 0x1120df7f3d0>"
      ]
     },
     "execution_count": 17,
     "metadata": {},
     "output_type": "execute_result"
    }
   ],
   "source": [
    "from pymongo import MongoClient\n",
    "from pathlib import Path\n",
    "import json\n",
    "\n",
    "mongo_uri = \"mongodb://localhost\"\n",
    "client = MongoClient(mongo_uri)\n",
    "\n",
    "db = client['to_model_sales']\n",
    "collection = db['user_data']\n",
    "\n",
    "collection.insert_many(complete_user_data)"
   ]
  },
  {
   "cell_type": "markdown",
   "metadata": {},
   "source": [
    "### Sales Data"
   ]
  },
  {
   "cell_type": "code",
   "execution_count": 19,
   "metadata": {},
   "outputs": [],
   "source": [
    "data_product_to_sales = data_product.set_index('ProductId')\n",
    "data_product_times = dict(data_product_to_sales.TimesBought)"
   ]
  },
  {
   "cell_type": "code",
   "execution_count": 20,
   "metadata": {},
   "outputs": [],
   "source": [
    "def GetItem():\n",
    "    \n",
    "    n = np.random.randint(1, 20)\n",
    "    data_prod = []\n",
    "    \n",
    "    for _ in range(n):\n",
    "        ProductId = np.random.choice(\n",
    "            data_product_to_sales.index, \n",
    "            p = data_product_to_sales.TimesBought/data_product_to_sales.TimesBought.sum() )\n",
    "            # p is the weights\n",
    "            \n",
    "        data_prod.append({\n",
    "            \"ProductId\": int(ProductId), \n",
    "            \"Amount\": int(data_product_times[ProductId])})\n",
    "    \n",
    "    return data_prod"
   ]
  },
  {
   "cell_type": "code",
   "execution_count": 21,
   "metadata": {},
   "outputs": [],
   "source": [
    "import datetime\n",
    "\n",
    "def DatePoint():\n",
    "        return (datetime.datetime(\n",
    "            year= np.random.randint(2019, 2021), \n",
    "            month=np.random.randint(1, 12), \n",
    "            day=np.random.randint(1,28),  \n",
    "            hour=np.random.randint(1, 24), \n",
    "            minute=np.random.randint(1, 60), \n",
    "            second=np.random.randint(1, 60)))\n",
    "\n",
    "all_banks = [\"Banco de Crédito del Perú\", \"Banco Pichincha\", \"BBVA\", \"Banco Falabella\", \"Banco Ripley\"]\n",
    "p_banks = [0.20, 0.05, 0.25, 0.3, 0.2]\n",
    "\n",
    "\n",
    "def get_sales():\n",
    "    data_current = {}\n",
    "    CustomerId = np.random.choice(\n",
    "        data_users.CustomerId, \n",
    "        p = data_users.TimesBought, replace=False)\n",
    "\n",
    "    data_current[\"CustomerId\"] = int(CustomerId)\n",
    "    \n",
    "    data_current[\"Date\"]=DatePoint().isoformat()\n",
    "    data_current[\"PaymentMethod\"] = np.random.choice([\"Cash\", \"Credit\"], p = [0.5, 0.5], replace=False)\n",
    "    \n",
    "    if data_current[\"PaymentMethod\"] == \"Cash\":\n",
    "        data_current[\"PaymentMethod\"] = {\"Cash\": np.random.choice([\"Cash\", \"Debit\"], p = [0.5, 0.5], replace=False)}\n",
    "    else:\n",
    "        data_current[\"PaymentMethod\"] = {\n",
    "            \"Credit\": {\n",
    "                \"Quotes\": int(np.random.choice(list(range(1, 7)), p = [0.5, 0.15, 0.1, 0.1, 0.05, 0.1], replace=False)), \n",
    "                 \"Back\": np.random.choice(all_banks, p = p_banks, replace=False)}}\n",
    "    data_current[\"Items\"] = GetItem()\n",
    "    return data_current\n",
    "\n",
    "complete_sales_data = [get_sales() for _ in range(1000)]"
   ]
  },
  {
   "cell_type": "code",
   "execution_count": 22,
   "metadata": {},
   "outputs": [],
   "source": [
    "from pymongo import MongoClient\n",
    "from pathlib import Path\n",
    "import json\n",
    "\n",
    "mongo_uri = \"mongodb://localhost\"\n",
    "client = MongoClient(mongo_uri)\n",
    "\n",
    "db = client['to_model_sales']\n",
    "collection = db['sales_data']"
   ]
  },
  {
   "cell_type": "code",
   "execution_count": 23,
   "metadata": {},
   "outputs": [
    {
     "data": {
      "text/plain": [
       "<pymongo.results.InsertManyResult at 0x1120dfce700>"
      ]
     },
     "execution_count": 23,
     "metadata": {},
     "output_type": "execute_result"
    }
   ],
   "source": [
    "db.sales_data.insert_many(complete_sales_data)"
   ]
  },
  {
   "cell_type": "code",
   "execution_count": 119,
   "metadata": {},
   "outputs": [],
   "source": [
    "for item_sales in complete_sales_data:\n",
    "    try:\n",
    "        collection.insert_one(item_sales)\n",
    "    except:\n",
    "        print(item_sales)"
   ]
  },
  {
   "cell_type": "markdown",
   "metadata": {},
   "source": [
    "## 2. Data Cleaning and Data Analysis"
   ]
  },
  {
   "cell_type": "code",
   "execution_count": 57,
   "metadata": {},
   "outputs": [
    {
     "name": "stdout",
     "output_type": "stream",
     "text": [
      "> All fields (for 1st stage): \n",
      "{'tags', 'seller', 'discount', 'original-price', '_id', 'price-main-md', 'price-promotional', 'ProductId', 'title'}\n"
     ]
    }
   ],
   "source": [
    "all_fields = set()\n",
    "for product_dict in complete_product_data:\n",
    "    all_fields = all_fields.union(set(product_dict.keys()))\n",
    "print(\"> All fields (for 1st stage): \",all_fields, sep = '\\n')"
   ]
  },
  {
   "cell_type": "code",
   "execution_count": null,
   "metadata": {
    "vscode": {
     "languageId": "javascript"
    }
   },
   "outputs": [],
   "source": [
    "// ------------------------------\n",
    "// Change the datatype of fields\n",
    "// ------------------------------\n",
    "\n",
    "db.product_data.find().forEach( \n",
    "    function (x) { \n",
    "        if (x['ProductId'] !== null){\n",
    "            x['ProductId'] = new NumberInt(x['ProductId'])};\n",
    "                \n",
    "    db.product_data.save(x);\n",
    "  });\n",
    "\n",
    "db.sales_data.find().forEach( \n",
    "    function (x) { \n",
    "        if (x['Date'] !== null){\n",
    "            x['Date'] = new ISODate(x['Date'])};\n",
    "                \n",
    "    db.sales_data.save(x);\n",
    "  });\n",
    "\n",
    "// ---------------------------------------------------------------\n",
    "//  Compute the discount taking the difference between the prices.\n",
    "// --------------------------------------------------------------\n",
    "\n",
    "var pipeline = [\n",
    "    {$set:{'division_to_discount':{$divide: ['$price-main-md', '$original-price']}}},\n",
    "    {$set:{'discount':{$subtract: [1, '$division_to_discount']} }},\n",
    "    {$unset:['division_to_discount'] }]\n",
    "\n",
    "db.product_data.updateMany(\n",
    "    {'original-price':{$gt:0}}, \n",
    "    pipeline)\n",
    "\n",
    "// ---------------\n",
    "// cluster by Age\n",
    "// ---------------\n",
    "\n",
    "var pipeline = [\n",
    "    {$set:{\"class_age\":{$switch:\n",
    "        {\n",
    "            branches:[\n",
    "                {\n",
    "                    case:{$gte:[\"$Age\", 50]},\n",
    "                    then: \">=50\"\n",
    "                },\n",
    "                {\n",
    "                    case:{$gte:[\"$Age\", 45]},\n",
    "                    then: \">=45|<50\"\n",
    "                },\n",
    "                {\n",
    "                    case:{$gte:[\"$Age\", 35]},\n",
    "                    then: \">=35|<45\"\n",
    "                },\n",
    "                {\n",
    "                    case:{$gte:[\"$Age\", 20]},\n",
    "                    then: \">=20|<35\"\n",
    "                }\n",
    "            ],\n",
    "            default:\"<20\"\n",
    "        }}}}\n",
    "]\n",
    "\n",
    "db.user_data.updateMany({'Age':{$gt:0}}, pipeline)\n",
    "\n",
    "// --------------------------------------------------------\n",
    "// computing the group by age cluster that more have bought \n",
    "// --------------------------------------------------------\n",
    "\n",
    "var pipeline = [\n",
    "        {$lookup: {\n",
    "            from: \"user_data\",\n",
    "            localField: \"CustomerId\", \n",
    "            foreignField: \"CustomerId\",\n",
    "            as: \"CustomerKey\"}\n",
    "        }, \n",
    "        { $unwind: \"$CustomerKey\"},\n",
    "        {$lookup: {\n",
    "            from: \"product_data\",\n",
    "            localField: \"Items.ProductId\", \n",
    "            foreignField: \"ProductId\",\n",
    "            as: \"ProductKey\"}}, \n",
    "        \n",
    "        {$unwind: \"$ProductKey\"},\n",
    "        {$unwind: \"$Items\"},\n",
    "        {$group:\n",
    "            {\n",
    "                _id:{\n",
    "                    \"clas_age_customer\":\"$CustomerKey.class_age\",\n",
    "                    \"category\":{\"$arrayElemAt\":[\"$ProductKey.tags\",0]}\n",
    "                },\n",
    "                \"Total\":{$sum:\"$Items.Amount\"} },\n",
    "            },\n",
    "        {$sort:{\"Total\":-1}}\n",
    "\n",
    "    ]\n",
    "\n",
    "db.sales_data.aggregate(pipeline)\n",
    "\n",
    "// ------------------------------------------------------\n",
    "//compute the sales amount grouping by score of sellers.\n",
    "// ------------------------------------------------------\n",
    "\n",
    "pipeline = [\n",
    "    {$lookup: {\n",
    "            from: \"product_data\",\n",
    "            localField: \"Items.ProductId\", \n",
    "            foreignField: \"ProductId\",\n",
    "            as: \"ProductKey\"}}, \n",
    "        \n",
    "        {$unwind: \"$ProductKey\"},\n",
    "        {$unwind: \"$Items\"},\n",
    "    {\n",
    "        \"$group\": { _id: \"$ProductKey.seller.score\", \"Total\":{$sum:\"$Items.Amount\"}\n",
    "            \n",
    "        }\n",
    "        \n",
    "    },\n",
    "    {$sort: {\"Total\":-1}}\n",
    "    ]\n",
    "db.sales_data.aggregate(pipeline)\n",
    "    "
   ]
  },
  {
   "cell_type": "markdown",
   "metadata": {},
   "source": [
    "* This first analysis of the data points out the age group over 35 years are who make purschases (they are who work). This information can be useful for marketing area. And in a model this behavior should be showed.\n",
    "\n",
    "* But the analysis can go deeper, searching the preferences by categories. To achive this, the next part is added. \n",
    "    ```mongodb\n",
    "    {\"category\":{\"$arrayElemAt\":[\"$ProductKey.tags\",0]}}\n",
    "    ```\n",
    "* The results show the age group over 35 years prefere the category `moda` over remaining.\n",
    "\n",
    "* Also, the seller that have a good score (`5`) not always have the biggest sales."
   ]
  },
  {
   "cell_type": "code",
   "execution_count": null,
   "metadata": {
    "vscode": {
     "languageId": "javascript"
    }
   },
   "outputs": [],
   "source": [
    "var pipeline = [\n",
    "    {\n",
    "        $group:{_id:{\"$arrayElemAt\":[\"$tags\",0]}, \"DiscountAvg\": {$avg:\"$discount\"}}\n",
    "    }, \n",
    "    {\n",
    "        $sort:{\"DiscountAvg\":-1}\n",
    "    }]\n",
    "\n",
    "db.product_.aggregate(pipeline);"
   ]
  },
  {
   "cell_type": "markdown",
   "metadata": {},
   "source": [
    "#### Basket Anaysis"
   ]
  },
  {
   "cell_type": "code",
   "execution_count": 1,
   "metadata": {},
   "outputs": [],
   "source": [
    "import pandas as pd\n",
    "import numpy as np\n",
    "import re"
   ]
  },
  {
   "cell_type": "code",
   "execution_count": 28,
   "metadata": {},
   "outputs": [],
   "source": [
    "name_file = r'./DataFromMongo/to_model_sales.sales_data.csv'\n",
    "sales_data_from_mdb = pd.read_csv(name_file)"
   ]
  },
  {
   "cell_type": "code",
   "execution_count": 49,
   "metadata": {},
   "outputs": [],
   "source": [
    "name_file = r'./DataFromMongo/to_model_sales.sales_data.csv'\n",
    "sales_data_from_mdb = pd.read_csv(name_file)\n",
    "\n",
    "sales_data_from_mdb['ProductId'] = (\n",
    "    sales_data_from_mdb.Items.apply(lambda x:eval(x)).apply(lambda x:list(pd.DataFrame(x)['ProductId'])).copy())\n",
    "\n",
    "sales_data_from_mdb['Amount'] = (\n",
    "    sales_data_from_mdb.Items.apply(lambda x:eval(x)).apply(lambda x:list(pd.DataFrame(x)['Amount'])).copy())\n",
    "    \n",
    "sales_data_from_mdb.Date = pd.to_datetime(sales_data_from_mdb.Date)\n",
    "sales_data_from_mdb.set_index('_id', inplace=True)"
   ]
  },
  {
   "cell_type": "code",
   "execution_count": 66,
   "metadata": {},
   "outputs": [],
   "source": [
    "columns = ['ProductId', 'Amount']\n",
    "to_concat = [sales_data_from_mdb[column].apply(lambda x:pd.Series(x)).stack().copy() for column in columns]\n",
    "sales_prod_amount = pd.concat(to_concat, axis=1)\n",
    "sales_prod_amount.columns = columns\n",
    "sales_prod_amount.index = sales_prod_amount.index.droplevel(1)"
   ]
  },
  {
   "cell_type": "code",
   "execution_count": 71,
   "metadata": {},
   "outputs": [],
   "source": [
    "sales_data_from_mdb_join = (\n",
    "    sales_prod_amount.merge(\n",
    "        sales_data_from_mdb[[ 'CustomerId', 'Date', 'PaymentMethod']], left_index=True, right_index=True))"
   ]
  },
  {
   "cell_type": "code",
   "execution_count": 75,
   "metadata": {},
   "outputs": [],
   "source": [
    "sales_data_to_basket = sales_data_from_mdb_join[['ProductId', 'Date']].copy()\n",
    "sales_data_to_basket.reset_index(inplace=True)\n",
    "sales_data_to_basket.set_index('Date', inplace=True)"
   ]
  },
  {
   "cell_type": "code",
   "execution_count": 77,
   "metadata": {},
   "outputs": [],
   "source": [
    "sales_data_to_basket.ProductId = sales_data_to_basket.ProductId.astype(int)\n",
    "\n",
    "sales_data_to_basket_2019 = sales_data_to_basket.loc['2019'].copy()\n",
    "sales_data_to_basket_2020 = sales_data_to_basket.loc['2020'].copy()\n",
    "\n",
    "sales_to_basket_to_train = sales_data_to_basket_2019.reset_index(drop=True)"
   ]
  },
  {
   "cell_type": "code",
   "execution_count": 80,
   "metadata": {},
   "outputs": [],
   "source": [
    "data_sales_to_basket = pd.crosstab(sales_to_basket_to_train._id, sales_to_basket_to_train.ProductId)"
   ]
  },
  {
   "cell_type": "code",
   "execution_count": 81,
   "metadata": {},
   "outputs": [],
   "source": [
    "import basket"
   ]
  },
  {
   "cell_type": "code",
   "execution_count": 82,
   "metadata": {},
   "outputs": [
    {
     "data": {
      "text/plain": [
       "T(10134)    0.110204\n",
       "T(10418)    0.097959\n",
       "T(10222)    0.095918\n",
       "T(10214)    0.083673\n",
       "T(10321)    0.083673\n",
       "T(10412)    0.081633\n",
       "T(10493)    0.081633\n",
       "Name: UniSupport, dtype: float64"
      ]
     },
     "execution_count": 82,
     "metadata": {},
     "output_type": "execute_result"
    }
   ],
   "source": [
    "sales_basket = basket.Basket(data_sales_to_basket)\n",
    "sales_basket.UniSupport(0.08).sort_values(ascending=False)"
   ]
  },
  {
   "cell_type": "code",
   "execution_count": 83,
   "metadata": {},
   "outputs": [
    {
     "data": {
      "text/plain": [
       "T(A,B)\n",
       "T(10134,10412)    0.020408\n",
       "T(10412,10418)    0.020408\n",
       "T(10134,10214)    0.016327\n",
       "T(10134,10493)    0.012245\n",
       "T(10222,10493)    0.012245\n",
       "T(10412,10493)    0.012245\n",
       "T(10134,10222)    0.010204\n",
       "T(10214,10493)    0.010204\n",
       "T(10222,10321)    0.010204\n",
       "T(10222,10418)    0.010204\n",
       "T(10321,10418)    0.010204\n",
       "Name: PairSupport, dtype: float64"
      ]
     },
     "execution_count": 83,
     "metadata": {},
     "output_type": "execute_result"
    }
   ],
   "source": [
    "sales_basket.PairSupport(0.01).sort_values(ascending=False)"
   ]
  },
  {
   "cell_type": "code",
   "execution_count": 84,
   "metadata": {},
   "outputs": [
    {
     "data": {
      "text/plain": [
       "T(A,B)/T(A)\n",
       "T(10412,10418)/T(10412)    0.250000\n",
       "T(10134,10412)/T(10134)    0.185185\n",
       "T(10412,10493)/T(10412)    0.150000\n",
       "T(10134,10214)/T(10134)    0.148148\n",
       "T(10222,10493)/T(10222)    0.127660\n",
       "T(10214,10493)/T(10214)    0.121951\n",
       "T(10321,10418)/T(10321)    0.121951\n",
       "T(10134,10493)/T(10134)    0.111111\n",
       "T(10222,10321)/T(10222)    0.106383\n",
       "T(10222,10418)/T(10222)    0.106383\n",
       "T(10134,10222)/T(10134)    0.092593\n",
       "Name: Confidence, dtype: float64"
      ]
     },
     "execution_count": 84,
     "metadata": {},
     "output_type": "execute_result"
    }
   ],
   "source": [
    "sales_basket.Confidence('A').sort_values(ascending=False)"
   ]
  },
  {
   "cell_type": "code",
   "execution_count": 85,
   "metadata": {},
   "outputs": [
    {
     "data": {
      "text/plain": [
       "T(A,B)/T(A)T(B)\n",
       "T(10412,10418)/T(10412)T(10418)    2.552083\n",
       "T(10134,10412)/T(10134)T(10412)    2.268519\n",
       "T(10412,10493)/T(10412)T(10493)    1.837500\n",
       "T(10134,10214)/T(10134)T(10214)    1.770551\n",
       "T(10222,10493)/T(10222)T(10493)    1.563830\n",
       "T(10214,10493)/T(10214)T(10493)    1.493902\n",
       "T(10134,10493)/T(10134)T(10493)    1.361111\n",
       "T(10222,10321)/T(10222)T(10321)    1.271406\n",
       "T(10321,10418)/T(10321)T(10418)    1.244919\n",
       "T(10222,10418)/T(10222)T(10418)    1.085993\n",
       "T(10134,10222)/T(10134)T(10222)    0.965327\n",
       "Name: Lift, dtype: float64"
      ]
     },
     "execution_count": 85,
     "metadata": {},
     "output_type": "execute_result"
    }
   ],
   "source": [
    "sales_basket.Lift().sort_values(ascending=False)"
   ]
  },
  {
   "cell_type": "markdown",
   "metadata": {},
   "source": [
    "* `Lift` ($k$) can be written  as $P(B|A) = k \\; P(B)$. So,\n",
    "  * If $k$>1, the effect of `A` on `B` is positive\n",
    "  * If $k$=1, the effect of `A` on `B` is indiferent\n",
    "  * If $k$<1, the effect of `A` on `B` is negative\n",
    "\n",
    "* The items that have the hightest `Lift` are `10412` and `10418`, so these will be analyzed\n",
    "* In order to this pupose it's necessary to import the table product_data"
   ]
  },
  {
   "cell_type": "code",
   "execution_count": 134,
   "metadata": {},
   "outputs": [],
   "source": [
    "name_file = r'./DataFromMongo/to_model_sales.product_data.csv'\n",
    "product_data_from_mdb = pd.read_csv(name_file)\n"
   ]
  },
  {
   "cell_type": "code",
   "execution_count": 113,
   "metadata": {},
   "outputs": [
    {
     "data": {
      "text/html": [
       "<div>\n",
       "<style scoped>\n",
       "    .dataframe tbody tr th:only-of-type {\n",
       "        vertical-align: middle;\n",
       "    }\n",
       "\n",
       "    .dataframe tbody tr th {\n",
       "        vertical-align: top;\n",
       "    }\n",
       "\n",
       "    .dataframe thead th {\n",
       "        text-align: right;\n",
       "    }\n",
       "</style>\n",
       "<table border=\"1\" class=\"dataframe\">\n",
       "  <thead>\n",
       "    <tr style=\"text-align: right;\">\n",
       "      <th></th>\n",
       "      <th>title</th>\n",
       "      <th>tags</th>\n",
       "      <th>original-price</th>\n",
       "      <th>discount</th>\n",
       "      <th>price-main-md</th>\n",
       "      <th>seller</th>\n",
       "      <th>ProductId</th>\n",
       "      <th>price-promotional</th>\n",
       "    </tr>\n",
       "  </thead>\n",
       "  <tbody>\n",
       "    <tr>\n",
       "      <th>411</th>\n",
       "      <td>Centro de Entretenimiento Casa Joven Eneza</td>\n",
       "      <td>hogar</td>\n",
       "      <td>199.0</td>\n",
       "      <td>0.100503</td>\n",
       "      <td>179.0</td>\n",
       "      <td>{\"score\":4.5,\"link-low-md\":\"HIPERMERCADOS TOTT...</td>\n",
       "      <td>10412</td>\n",
       "      <td>NaN</td>\n",
       "    </tr>\n",
       "    <tr>\n",
       "      <th>417</th>\n",
       "      <td>Artefacto Led 16w60k Blanco</td>\n",
       "      <td>hogar</td>\n",
       "      <td>91.9</td>\n",
       "      <td>0.500544</td>\n",
       "      <td>45.9</td>\n",
       "      <td>{\"score\":4.5,\"link-low-md\":\"Falabella\"}</td>\n",
       "      <td>10418</td>\n",
       "      <td>NaN</td>\n",
       "    </tr>\n",
       "  </tbody>\n",
       "</table>\n",
       "</div>"
      ],
      "text/plain": [
       "                                          title   tags  original-price  \\\n",
       "411  Centro de Entretenimiento Casa Joven Eneza  hogar           199.0   \n",
       "417                 Artefacto Led 16w60k Blanco  hogar            91.9   \n",
       "\n",
       "     discount  price-main-md  \\\n",
       "411  0.100503          179.0   \n",
       "417  0.500544           45.9   \n",
       "\n",
       "                                                seller  ProductId  \\\n",
       "411  {\"score\":4.5,\"link-low-md\":\"HIPERMERCADOS TOTT...      10412   \n",
       "417            {\"score\":4.5,\"link-low-md\":\"Falabella\"}      10418   \n",
       "\n",
       "     price-promotional  \n",
       "411                NaN  \n",
       "417                NaN  "
      ]
     },
     "execution_count": 113,
     "metadata": {},
     "output_type": "execute_result"
    }
   ],
   "source": [
    "product_data_from_mdb[product_data_from_mdb.ProductId.isin([10418, 10412])]"
   ]
  },
  {
   "cell_type": "markdown",
   "metadata": {},
   "source": [
    "* Individually, the item `10418 - Artefacto Led` has the probability `9%` that being add in basket in any transaction, but this probability increases at `25%` (was mulitply by `2.552083`, the `lift`) if previously the item `10412 - Centro de entretenimiento` was added at basket."
   ]
  },
  {
   "cell_type": "markdown",
   "metadata": {},
   "source": [
    "#### Join Data\n",
    "* In order to build the model and contrast some hypothesis it's necessary normalize the data.\n",
    "* For this purpose the data will be carry out to `Spark`."
   ]
  },
  {
   "cell_type": "code",
   "execution_count": null,
   "metadata": {},
   "outputs": [],
   "source": [
    "product_data_from_mdb.drop(columns=['_id'], inplace=True)\n",
    "product_data_from_mdb.tags = product_data_from_mdb.tags.apply(lambda x:eval(x)).copy()\n",
    "product_data_from_mdb.tags = product_data_from_mdb.tags.apply(lambda x:x[0])\n",
    "score_seller = product_data_from_mdb.seller.apply(lambda x:pd.Series(eval(x), dtype='str'))\n",
    "product_data_from_mdb_join = pd.concat([product_data_from_mdb, score_seller], axis = 1)\n",
    "product_data_from_mdb_join.drop(columns=['seller'], inplace=True)\n",
    "\n",
    "name_file = r'./DataFromMongo/to_model_sales.user_data.csv'\n",
    "user_data_from_mdb = pd.read_csv(name_file)\n",
    "user_data_from_mdb.drop(columns=['_id'], inplace=True)"
   ]
  },
  {
   "cell_type": "code",
   "execution_count": 136,
   "metadata": {},
   "outputs": [],
   "source": [
    "join_data = (\n",
    "    sales_data_from_mdb_join\n",
    "    .merge(user_data_from_mdb, on = 'CustomerId')\n",
    "    .merge(product_data_from_mdb_join, on = 'ProductId'))"
   ]
  },
  {
   "cell_type": "code",
   "execution_count": 140,
   "metadata": {},
   "outputs": [],
   "source": [
    "join_data.to_parquet('join_data.parquet.gzip', compression='gzip')"
   ]
  },
  {
   "cell_type": "code",
   "execution_count": 11,
   "metadata": {},
   "outputs": [],
   "source": [
    "import pandas as pd"
   ]
  },
  {
   "cell_type": "code",
   "execution_count": 49,
   "metadata": {},
   "outputs": [],
   "source": [
    "df = pd.read_parquet('join_data.parquet.gzip')"
   ]
  },
  {
   "cell_type": "code",
   "execution_count": 57,
   "metadata": {},
   "outputs": [],
   "source": [
    "from scipy.stats import uniform\n",
    "import matplotlib.pyplot as plt"
   ]
  },
  {
   "cell_type": "markdown",
   "metadata": {},
   "source": [
    "A bit of **Storytelling**"
   ]
  },
  {
   "cell_type": "code",
   "execution_count": 287,
   "metadata": {},
   "outputs": [
    {
     "data": {
      "text/plain": [
       "Text(0.59, 10, 'Top categories\\n that do not have\\n a discount')"
      ]
     },
     "execution_count": 287,
     "metadata": {},
     "output_type": "execute_result"
    },
    {
     "data": {
      "image/png": "[encoded data removed]",
      "text/plain": [
       "<Figure size 720x504 with 1 Axes>"
      ]
     },
     "metadata": {},
     "output_type": "display_data"
    }
   ],
   "source": [
    "df_no_discount = df.groupby('tags')['discount'].agg(lambda x:x.isna().sum())\n",
    "df_len = df.groupby('tags')['discount'].agg(lambda x:len(x))\n",
    "no_discount_percent = (df_no_discount/df_len).sort_values(ascending=True)\n",
    "no_discount_percent = no_discount_percent[no_discount_percent>0].copy()\n",
    "no_discount_pct_label, no_discount_pct_val =  no_discount_percent.index, no_discount_percent.values\n",
    "\n",
    "fig, ax = plt.subplots(figsize = (10, 7))\n",
    "\n",
    "most_discount = ['despensa-vinos-y-gourmet', 'libros-y-peliculas']\n",
    "colors = [(0, 0, 0.5, 0.8) if name in most_discount  else (0, 0, 0, 0.1)  for name in no_discount_pct_label ]\n",
    "\n",
    "ax.barh(\n",
    "    y = range(0, len(no_discount_pct_val)), width=no_discount_pct_val, height = 0.93,\n",
    "    color = colors)\n",
    "\n",
    "ax.tick_params(axis='both', bottom = False, left = False, labelleft=False,labelbottom=False,)\n",
    "\n",
    "spines = ['right', 'top', 'left', 'bottom']\n",
    "for spine in  spines:\n",
    "    ax.spines[spine].set_color('white')\n",
    "\n",
    "for index_, label, value in zip(range(14),no_discount_pct_label, no_discount_pct_val):\n",
    "    if value>0:\n",
    "        label_soul = label.title().replace('-', ' ')\n",
    "        if label in most_discount:\n",
    "            ax.text(value*0.3, index_, f'{label_soul} {value:.2%}' , color = 'white', \n",
    "            fontdict={'fontsize':12,  'weight' : 'semibold'})\n",
    "        else:\n",
    "            ax.text(value + value*0.02, index_, f'{label_soul} {value:.2%}', color = (0, 0, 0, 0.5))\n",
    "\n",
    "ax.text(0.59, 10, \n",
    "        'Top categories\\n that do not have\\n a discount', \n",
    "        fontdict ={'fontsize':14, 'color': (0, 0, 0.5, 0.8), 'weight' : 'semibold' })"
   ]
  },
  {
   "cell_type": "markdown",
   "metadata": {},
   "source": [
    "* We focus on the category `Despensa Vinos y Gourmet`\n",
    "\n",
    "* What if we apply discount to above category? we can simulate it."
   ]
  },
  {
   "cell_type": "code",
   "execution_count": 293,
   "metadata": {},
   "outputs": [],
   "source": [
    "from scipy.stats import uniform"
   ]
  },
  {
   "cell_type": "code",
   "execution_count": 377,
   "metadata": {},
   "outputs": [],
   "source": [
    "df_despensa_vinos = df.loc[df.tags == 'despensa-vinos-y-gourmet'].copy(deep=True)\n",
    "\n",
    "# without discount:WO\n",
    "df_despensa_vinos.loc[df_despensa_vinos.discount.isna(), 'Before'] = 'WO'\n",
    "\n",
    "# with discount:W\n",
    "df_despensa_vinos.loc[df_despensa_vinos.discount.notna(), 'Before'] = 'W' \n",
    "\n",
    "size = df_despensa_vinos.discount.isna().sum()\n",
    "discount_uniform = uniform.rvs(loc = 0, scale = 1/3, size = size, random_state = 132)\n",
    "\n",
    "df_despensa_vinos.loc[df_despensa_vinos.Before == 'WO', 'Amount'] = df_despensa_vinos.loc[df_despensa_vinos.Before == 'WO', 'Amount']*(1+discount_uniform) \n",
    "df_despensa_vinos.loc[df_despensa_vinos.Before == 'WO', 'discount'] = discount_uniform"
   ]
  },
  {
   "cell_type": "code",
   "execution_count": 391,
   "metadata": {},
   "outputs": [
    {
     "data": {
      "text/plain": [
       "24220.0"
      ]
     },
     "execution_count": 391,
     "metadata": {},
     "output_type": "execute_result"
    }
   ],
   "source": [
    "df.loc[df.discount.notna(), 'Amount'].sum()"
   ]
  },
  {
   "cell_type": "code",
   "execution_count": 376,
   "metadata": {},
   "outputs": [
    {
     "data": {
      "text/plain": [
       "4.008714596949891"
      ]
     },
     "execution_count": 376,
     "metadata": {},
     "output_type": "execute_result"
    }
   ],
   "source": [
    "df_despensa_vinos.loc[df_despensa_vinos.Before == 'WO', 'Amount'].mean()"
   ]
  },
  {
   "cell_type": "code",
   "execution_count": 352,
   "metadata": {},
   "outputs": [
    {
     "data": {
      "text/plain": [
       "4.114257640300859"
      ]
     },
     "execution_count": 352,
     "metadata": {},
     "output_type": "execute_result"
    }
   ],
   "source": [
    "df_despensa_vinos.Amount.mean()"
   ]
  },
  {
   "cell_type": "markdown",
   "metadata": {},
   "source": [
    "* $\\mu:$ mean of Sales Amount\n",
    "\n",
    "* $H_0: \\mu = 50$ "
   ]
  },
  {
   "cell_type": "code",
   "execution_count": 346,
   "metadata": {},
   "outputs": [
    {
     "data": {
      "text/plain": [
       "0.16621697575245678"
      ]
     },
     "execution_count": 346,
     "metadata": {},
     "output_type": "execute_result"
    }
   ],
   "source": [
    "discount_uniform.mean()"
   ]
  },
  {
   "cell_type": "code",
   "execution_count": 323,
   "metadata": {},
   "outputs": [
    {
     "data": {
      "text/plain": [
       "Index(['ProductId', 'Amount', 'CustomerId', 'Date', 'PaymentMethod', 'Address',\n",
       "       'Age', 'CellPhone', 'class_age', 'title', 'tags', 'original-price',\n",
       "       'discount', 'price-main-md', 'price-promotional', 'score',\n",
       "       'link-low-md', 'Before'],\n",
       "      dtype='object')"
      ]
     },
     "execution_count": 323,
     "metadata": {},
     "output_type": "execute_result"
    }
   ],
   "source": [
    "df_despensa_vinos.columns"
   ]
  },
  {
   "cell_type": "code",
   "execution_count": 16,
   "metadata": {},
   "outputs": [],
   "source": [
    "df\n",
    "sample_size = 100\n",
    "data_sample = df.groupby('tags').apply(lambda x:x.sample(sample_size))"
   ]
  },
  {
   "cell_type": "code",
   "execution_count": 22,
   "metadata": {},
   "outputs": [
    {
     "data": {
      "text/plain": [
       "0.2872245573812253"
      ]
     },
     "execution_count": 22,
     "metadata": {},
     "output_type": "execute_result"
    }
   ],
   "source": [
    "df['discount'].isna().sum() "
   ]
  },
  {
   "cell_type": "markdown",
   "metadata": {},
   "source": [
    "### PySpark"
   ]
  },
  {
   "cell_type": "code",
   "execution_count": 1,
   "metadata": {},
   "outputs": [],
   "source": [
    "import findspark\n",
    "findspark.init()\n",
    "\n",
    "from pyspark.sql import SparkSession\n",
    "\n",
    "spark = SparkSession.builder.getOrCreate()"
   ]
  },
  {
   "cell_type": "code",
   "execution_count": 2,
   "metadata": {},
   "outputs": [],
   "source": [
    "join_data_spark = spark.read.parquet('join_data.parquet.gzip')"
   ]
  },
  {
   "cell_type": "markdown",
   "metadata": {},
   "source": [
    "Suppose that the company wants to reduce invetary, and for this purpose the team data science select a sample of products that will be the percentaje of discount.\n",
    "\n"
   ]
  },
  {
   "cell_type": "code",
   "execution_count": 3,
   "metadata": {},
   "outputs": [
    {
     "name": "stdout",
     "output_type": "stream",
     "text": [
      "root\n",
      " |-- ProductId: double (nullable = true)\n",
      " |-- Amount: double (nullable = true)\n",
      " |-- CustomerId: long (nullable = true)\n",
      " |-- Date: timestamp (nullable = true)\n",
      " |-- PaymentMethod: string (nullable = true)\n",
      " |-- Address: string (nullable = true)\n",
      " |-- Age: long (nullable = true)\n",
      " |-- CellPhone: long (nullable = true)\n",
      " |-- class_age: string (nullable = true)\n",
      " |-- title: string (nullable = true)\n",
      " |-- tags: string (nullable = true)\n",
      " |-- original-price: double (nullable = true)\n",
      " |-- discount: double (nullable = true)\n",
      " |-- price-main-md: double (nullable = true)\n",
      " |-- price-promotional: double (nullable = true)\n",
      " |-- score: string (nullable = true)\n",
      " |-- link-low-md: string (nullable = true)\n",
      " |-- __index_level_0__: long (nullable = true)\n",
      "\n"
     ]
    }
   ],
   "source": [
    "join_data_spark.printSchema()"
   ]
  },
  {
   "cell_type": "code",
   "execution_count": 4,
   "metadata": {},
   "outputs": [
    {
     "name": "stdout",
     "output_type": "stream",
     "text": [
      "+---------+------+--------------------+\n",
      "|ProductID|Amount|                tags|\n",
      "+---------+------+--------------------+\n",
      "|  10054.0|   1.0|juguetes-ninos-y-...|\n",
      "|  10054.0|   1.0|juguetes-ninos-y-...|\n",
      "+---------+------+--------------------+\n",
      "only showing top 2 rows\n",
      "\n"
     ]
    }
   ],
   "source": [
    "join_data_spark.select(['ProductID', 'Amount', 'tags']).show(2)"
   ]
  },
  {
   "cell_type": "code",
   "execution_count": 10,
   "metadata": {},
   "outputs": [
    {
     "name": "stdout",
     "output_type": "stream",
     "text": [
      "+--------------------+------------------+\n",
      "|                tags|       avg(Amount)|\n",
      "+--------------------+------------------+\n",
      "|                moda| 2.765008576329331|\n",
      "|belleza-y-cuidado...|3.7464622641509435|\n",
      "|          ferreteria|2.5732758620689653|\n",
      "|consolas-y-videoj...| 3.056179775280899|\n",
      "|               hogar| 3.286079182630907|\n",
      "|   salud-y-bienestar|3.1293260473588345|\n",
      "|juguetes-ninos-y-...| 3.220440881763527|\n",
      "|            deportes| 1.659310344827586|\n",
      "| celulares-y-tablets|2.3653846153846154|\n",
      "|         computacion| 2.497335701598579|\n",
      "|   electrodomesticos| 5.611336032388664|\n",
      "|    tv-audio-y-video| 3.206581352833638|\n",
      "|despensa-vinos-y-...| 3.739130434782609|\n",
      "|  libros-y-peliculas|2.9574468085106385|\n",
      "+--------------------+------------------+\n",
      "\n"
     ]
    }
   ],
   "source": [
    "join_data_spark.groupby(['tags']).agg({'Amount':'mean'}).show()"
   ]
  },
  {
   "cell_type": "code",
   "execution_count": null,
   "metadata": {},
   "outputs": [],
   "source": []
  }
 ],
 "metadata": {
  "interpreter": {
   "hash": "7679c2132d3f6ce38c9df14d554b39c06862b36a4e6689c81f9ae15bd0911d7d"
  },
  "kernelspec": {
   "display_name": "Python 3.9.7 ('base')",
   "language": "python",
   "name": "python3"
  },
  "language_info": {
   "codemirror_mode": {
    "name": "ipython",
    "version": 3
   },
   "file_extension": ".py",
   "mimetype": "text/x-python",
   "name": "python",
   "nbconvert_exporter": "python",
   "pygments_lexer": "ipython3",
   "version": "3.9.7"
  },
  "orig_nbformat": 4
 },
 "nbformat": 4,
 "nbformat_minor": 2
}
